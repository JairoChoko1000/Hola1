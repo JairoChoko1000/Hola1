{
 "cells": [
  {
   "cell_type": "markdown",
   "id": "22b9296f",
   "metadata": {},
   "source": [
    "# Hola a todos\n",
    "## Si, a todos\n",
    "### Cómo estan?\n",
    "Entre lo que haremos sera\n",
    "- Vamos \n",
    "- *Hola*\n",
    "-**Hola**\n",
    "\n",
    "![Imagen](https://biotopeaquariumproject.com/wp-content/uploads/2020/09/bin_rio-de-coacuilco-hidalgo_mexico1.jpg)\n"
   ]
  },
  {
   "cell_type": "code",
   "execution_count": 1,
   "id": "e55ae291",
   "metadata": {},
   "outputs": [
    {
     "name": "stdout",
     "output_type": "stream",
     "text": [
      "Este es mi código\n"
     ]
    }
   ],
   "source": [
    "#No lo haga compa!!\n",
    "print(\"Este es mi código\")\n",
    "F=\"triste\""
   ]
  },
  {
   "cell_type": "code",
   "execution_count": null,
   "id": "b7d2212a",
   "metadata": {},
   "outputs": [],
   "source": [
    "print(\"Hola a todos\")\n",
    "print(\"Estas\",F, \"?\")"
   ]
  },
  {
   "cell_type": "code",
   "execution_count": null,
   "id": "69208895",
   "metadata": {},
   "outputs": [],
   "source": []
  },
  {
   "cell_type": "code",
   "execution_count": 1,
   "id": "b02a95d2",
   "metadata": {},
   "outputs": [
    {
     "name": "stdout",
     "output_type": "stream",
     "text": [
      "Este es mi código\n"
     ]
    }
   ],
   "source": [
    "#No lo haga compa!!\n",
    "print(\"Este es mi código\")\n",
    "F=\"triste\""
   ]
  }
 ],
 "metadata": {
  "kernelspec": {
   "display_name": "Python 3",
   "language": "python",
   "name": "python3"
  },
  "language_info": {
   "codemirror_mode": {
    "name": "ipython",
    "version": 3
   },
   "file_extension": ".py",
   "mimetype": "text/x-python",
   "name": "python",
   "nbconvert_exporter": "python",
   "pygments_lexer": "ipython3",
   "version": "3.9.5"
  }
 },
 "nbformat": 4,
 "nbformat_minor": 5
}
